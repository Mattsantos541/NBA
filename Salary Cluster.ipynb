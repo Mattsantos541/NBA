{
 "cells": [
  {
   "cell_type": "code",
   "execution_count": 24,
   "metadata": {},
   "outputs": [],
   "source": [
    "import pandas as pd\n",
    "import numpy as np\n",
    "from sklearn.cluster import KMeans\n",
    "from sklearn import datasets\n",
    "# ignore warnings\n",
    "import warnings\n",
    "warnings.filterwarnings(\"ignore\")\n",
    "\n",
    "from sklearn.datasets.samples_generator import make_blobs\n",
    "\n",
    "# Wrangling\n",
    "import pandas as pd\n",
    "import numpy as np\n",
    "\n",
    "# Visualizing\n",
    "%matplotlib inline\n",
    "import matplotlib.pyplot as plt\n",
    "from matplotlib import cm\n",
    "import seaborn as sns\n",
    "\n",
    "# Modeling\n",
    "from sklearn.cluster import KMeans\n",
    "from sklearn.preprocessing import LabelEncoder\n",
    "from sklearn.model_selection import train_test_split\n",
    "\n",
    "# Though the following import is not directly being used, it is required\n",
    "# for 3D projection to work\n",
    "from mpl_toolkits.mplot3d import Axes3D\n",
    "\n",
    "pd.options.display.float_format = '{:20,.2f}'.format"
   ]
  },
  {
   "cell_type": "markdown",
   "metadata": {},
   "source": [
    "##### Acquire the data sets\n",
    "###### from basketballreference.com"
   ]
  },
  {
   "cell_type": "code",
   "execution_count": 2,
   "metadata": {},
   "outputs": [],
   "source": [
    "df= pd.read_excel('activeplayers.xls')"
   ]
  },
  {
   "cell_type": "code",
   "execution_count": 3,
   "metadata": {},
   "outputs": [],
   "source": [
    "df=pd.DataFrame(df)"
   ]
  },
  {
   "cell_type": "code",
   "execution_count": 4,
   "metadata": {},
   "outputs": [],
   "source": [
    "salary= pd.read_excel('salary.xls')"
   ]
  },
  {
   "cell_type": "code",
   "execution_count": 5,
   "metadata": {},
   "outputs": [],
   "source": [
    "salary= pd.DataFrame(salary)"
   ]
  },
  {
   "cell_type": "markdown",
   "metadata": {},
   "source": [
    "#### Prep\n",
    "Must merge the tables (based on player name)\n",
    "Exclude players not currently active or have nulls in necesary columns"
   ]
  },
  {
   "cell_type": "code",
   "execution_count": 6,
   "metadata": {},
   "outputs": [
    {
     "data": {
      "text/html": [
       "<div>\n",
       "<style scoped>\n",
       "    .dataframe tbody tr th:only-of-type {\n",
       "        vertical-align: middle;\n",
       "    }\n",
       "\n",
       "    .dataframe tbody tr th {\n",
       "        vertical-align: top;\n",
       "    }\n",
       "\n",
       "    .dataframe thead th {\n",
       "        text-align: right;\n",
       "    }\n",
       "</style>\n",
       "<table border=\"1\" class=\"dataframe\">\n",
       "  <thead>\n",
       "    <tr style=\"text-align: right;\">\n",
       "      <th></th>\n",
       "      <th></th>\n",
       "      <th>Rk</th>\n",
       "      <th>Player</th>\n",
       "      <th>Tm</th>\n",
       "      <th>2019-20</th>\n",
       "      <th>2020-21</th>\n",
       "      <th>2021-22</th>\n",
       "      <th>2022-23</th>\n",
       "      <th>2023-24</th>\n",
       "      <th>2024-25</th>\n",
       "      <th>Signed Using</th>\n",
       "      <th>Guaranteed</th>\n",
       "    </tr>\n",
       "  </thead>\n",
       "  <tbody>\n",
       "    <tr>\n",
       "      <th rowspan=\"5\" valign=\"top\">player</th>\n",
       "      <th>0</th>\n",
       "      <td>1</td>\n",
       "      <td>Stephen Curry</td>\n",
       "      <td>GSW</td>\n",
       "      <td>40231758</td>\n",
       "      <td>43,006,362.00</td>\n",
       "      <td>45,780,966.00</td>\n",
       "      <td>nan</td>\n",
       "      <td>nan</td>\n",
       "      <td>nan</td>\n",
       "      <td>Bird Rights</td>\n",
       "      <td>129,019,086.00</td>\n",
       "    </tr>\n",
       "    <tr>\n",
       "      <th>1</th>\n",
       "      <td>2</td>\n",
       "      <td>Chris Paul</td>\n",
       "      <td>OKC</td>\n",
       "      <td>38506482</td>\n",
       "      <td>41,358,814.00</td>\n",
       "      <td>44,211,146.00</td>\n",
       "      <td>nan</td>\n",
       "      <td>nan</td>\n",
       "      <td>nan</td>\n",
       "      <td>NaN</td>\n",
       "      <td>124,076,442.00</td>\n",
       "    </tr>\n",
       "    <tr>\n",
       "      <th>2</th>\n",
       "      <td>3</td>\n",
       "      <td>Russell Westbrook</td>\n",
       "      <td>HOU</td>\n",
       "      <td>38178000</td>\n",
       "      <td>41,006,000.00</td>\n",
       "      <td>43,848,000.00</td>\n",
       "      <td>46,662,000.00</td>\n",
       "      <td>nan</td>\n",
       "      <td>nan</td>\n",
       "      <td>Bird Rights</td>\n",
       "      <td>123,032,000.00</td>\n",
       "    </tr>\n",
       "    <tr>\n",
       "      <th>3</th>\n",
       "      <td>4</td>\n",
       "      <td>John Wall</td>\n",
       "      <td>WAS</td>\n",
       "      <td>37800000</td>\n",
       "      <td>40,824,000.00</td>\n",
       "      <td>43,848,000.00</td>\n",
       "      <td>46,872,000.00</td>\n",
       "      <td>nan</td>\n",
       "      <td>nan</td>\n",
       "      <td>Bird Rights</td>\n",
       "      <td>122,472,000.00</td>\n",
       "    </tr>\n",
       "    <tr>\n",
       "      <th>4</th>\n",
       "      <td>5</td>\n",
       "      <td>James Harden</td>\n",
       "      <td>HOU</td>\n",
       "      <td>37800000</td>\n",
       "      <td>40,824,000.00</td>\n",
       "      <td>43,848,000.00</td>\n",
       "      <td>46,872,000.00</td>\n",
       "      <td>nan</td>\n",
       "      <td>nan</td>\n",
       "      <td>Bird Rights</td>\n",
       "      <td>122,472,000.00</td>\n",
       "    </tr>\n",
       "  </tbody>\n",
       "</table>\n",
       "</div>"
      ],
      "text/plain": [
       "          Rk             Player   Tm   2019-20              2020-21  \\\n",
       "player 0   1      Stephen Curry  GSW  40231758        43,006,362.00   \n",
       "       1   2         Chris Paul  OKC  38506482        41,358,814.00   \n",
       "       2   3  Russell Westbrook  HOU  38178000        41,006,000.00   \n",
       "       3   4          John Wall  WAS  37800000        40,824,000.00   \n",
       "       4   5       James Harden  HOU  37800000        40,824,000.00   \n",
       "\n",
       "                      2021-22              2022-23              2023-24  \\\n",
       "player 0        45,780,966.00                  nan                  nan   \n",
       "       1        44,211,146.00                  nan                  nan   \n",
       "       2        43,848,000.00        46,662,000.00                  nan   \n",
       "       3        43,848,000.00        46,872,000.00                  nan   \n",
       "       4        43,848,000.00        46,872,000.00                  nan   \n",
       "\n",
       "                      2024-25 Signed Using           Guaranteed  \n",
       "player 0                  nan  Bird Rights       129,019,086.00  \n",
       "       1                  nan          NaN       124,076,442.00  \n",
       "       2                  nan  Bird Rights       123,032,000.00  \n",
       "       3                  nan  Bird Rights       122,472,000.00  \n",
       "       4                  nan  Bird Rights       122,472,000.00  "
      ]
     },
     "execution_count": 6,
     "metadata": {},
     "output_type": "execute_result"
    }
   ],
   "source": [
    "pieces = {'player': df, 'player': salary}\n",
    "\n",
    "df_sal = pd.concat(pieces)\n",
    "\n",
    "df_sal.head()"
   ]
  },
  {
   "cell_type": "code",
   "execution_count": 7,
   "metadata": {},
   "outputs": [],
   "source": [
    "\n",
    "df_sal= df_sal.drop(df_sal[[ '2020-21', '2021-22', '2022-23', '2023-24', '2024-25', 'Tm', 'Signed Using']], axis=1)"
   ]
  },
  {
   "cell_type": "code",
   "execution_count": 8,
   "metadata": {},
   "outputs": [],
   "source": [
    "df_sal.rename(columns = {'2019-20':'Salary', 'Guranteed':'FullContract'}, inplace = True)"
   ]
  },
  {
   "cell_type": "code",
   "execution_count": 9,
   "metadata": {},
   "outputs": [
    {
     "data": {
      "text/html": [
       "<div>\n",
       "<style scoped>\n",
       "    .dataframe tbody tr th:only-of-type {\n",
       "        vertical-align: middle;\n",
       "    }\n",
       "\n",
       "    .dataframe tbody tr th {\n",
       "        vertical-align: top;\n",
       "    }\n",
       "\n",
       "    .dataframe thead th {\n",
       "        text-align: right;\n",
       "    }\n",
       "</style>\n",
       "<table border=\"1\" class=\"dataframe\">\n",
       "  <thead>\n",
       "    <tr style=\"text-align: right;\">\n",
       "      <th></th>\n",
       "      <th></th>\n",
       "      <th>Rk</th>\n",
       "      <th>Player</th>\n",
       "      <th>Salary</th>\n",
       "      <th>Guaranteed</th>\n",
       "    </tr>\n",
       "  </thead>\n",
       "  <tbody>\n",
       "    <tr>\n",
       "      <th>player</th>\n",
       "      <th>0</th>\n",
       "      <td>1</td>\n",
       "      <td>Stephen Curry</td>\n",
       "      <td>40231758</td>\n",
       "      <td>129,019,086.00</td>\n",
       "    </tr>\n",
       "  </tbody>\n",
       "</table>\n",
       "</div>"
      ],
      "text/plain": [
       "          Rk         Player    Salary           Guaranteed\n",
       "player 0   1  Stephen Curry  40231758       129,019,086.00"
      ]
     },
     "execution_count": 9,
     "metadata": {},
     "output_type": "execute_result"
    }
   ],
   "source": [
    "df_sal.head(1)"
   ]
  },
  {
   "cell_type": "code",
   "execution_count": 10,
   "metadata": {},
   "outputs": [
    {
     "data": {
      "text/html": [
       "<div>\n",
       "<style scoped>\n",
       "    .dataframe tbody tr th:only-of-type {\n",
       "        vertical-align: middle;\n",
       "    }\n",
       "\n",
       "    .dataframe tbody tr th {\n",
       "        vertical-align: top;\n",
       "    }\n",
       "\n",
       "    .dataframe thead th {\n",
       "        text-align: right;\n",
       "    }\n",
       "</style>\n",
       "<table border=\"1\" class=\"dataframe\">\n",
       "  <thead>\n",
       "    <tr style=\"text-align: right;\">\n",
       "      <th></th>\n",
       "      <th>Rk_x</th>\n",
       "      <th>Player</th>\n",
       "      <th>Salary</th>\n",
       "      <th>Guaranteed</th>\n",
       "      <th>Rk_y</th>\n",
       "      <th>From</th>\n",
       "      <th>To</th>\n",
       "      <th>Tm</th>\n",
       "      <th>Lg</th>\n",
       "      <th>MP</th>\n",
       "      <th>...</th>\n",
       "      <th>BLK</th>\n",
       "      <th>TOV</th>\n",
       "      <th>PF</th>\n",
       "      <th>PTS</th>\n",
       "      <th>FG%</th>\n",
       "      <th>2P%</th>\n",
       "      <th>3P%</th>\n",
       "      <th>eFG%</th>\n",
       "      <th>FT%</th>\n",
       "      <th>TS%</th>\n",
       "    </tr>\n",
       "  </thead>\n",
       "  <tbody>\n",
       "    <tr>\n",
       "      <th>0</th>\n",
       "      <td>1</td>\n",
       "      <td>Stephen Curry</td>\n",
       "      <td>40231758</td>\n",
       "      <td>129,019,086.00</td>\n",
       "      <td>10</td>\n",
       "      <td>2010</td>\n",
       "      <td>2020</td>\n",
       "      <td>GSW</td>\n",
       "      <td>NBA</td>\n",
       "      <td>34.30</td>\n",
       "      <td>...</td>\n",
       "      <td>0.20</td>\n",
       "      <td>3.10</td>\n",
       "      <td>2.50</td>\n",
       "      <td>23.50</td>\n",
       "      <td>0.48</td>\n",
       "      <td>0.52</td>\n",
       "      <td>0.43</td>\n",
       "      <td>0.58</td>\n",
       "      <td>0.91</td>\n",
       "      <td>0.62</td>\n",
       "    </tr>\n",
       "  </tbody>\n",
       "</table>\n",
       "<p>1 rows × 36 columns</p>\n",
       "</div>"
      ],
      "text/plain": [
       "   Rk_x         Player    Salary           Guaranteed  Rk_y  From    To   Tm  \\\n",
       "0     1  Stephen Curry  40231758       129,019,086.00    10  2010  2020  GSW   \n",
       "\n",
       "    Lg                   MP  ...                  BLK                  TOV  \\\n",
       "0  NBA                34.30  ...                 0.20                 3.10   \n",
       "\n",
       "                    PF                  PTS                  FG%  \\\n",
       "0                 2.50                23.50                 0.48   \n",
       "\n",
       "                   2P%                  3P%                 eFG%  \\\n",
       "0                 0.52                 0.43                 0.58   \n",
       "\n",
       "                   FT%                  TS%  \n",
       "0                 0.91                 0.62  \n",
       "\n",
       "[1 rows x 36 columns]"
      ]
     },
     "execution_count": 10,
     "metadata": {},
     "output_type": "execute_result"
    }
   ],
   "source": [
    "dfmain= pd.merge(df_sal, df, on='Player')\n",
    "\n",
    "dfmain.head(1)"
   ]
  },
  {
   "cell_type": "code",
   "execution_count": 11,
   "metadata": {},
   "outputs": [],
   "source": [
    "dfmain= dfmain.drop(dfmain[[ 'Rk_y', 'From', 'To', 'Lg']], axis=1)"
   ]
  },
  {
   "cell_type": "markdown",
   "metadata": {},
   "source": [
    "##### ALL THE IRRELEVANT COLUMNS HAVE BEEN DELETED"
   ]
  },
  {
   "cell_type": "code",
   "execution_count": null,
   "metadata": {},
   "outputs": [],
   "source": []
  },
  {
   "cell_type": "markdown",
   "metadata": {},
   "source": [
    "##### INITIAL CLUSTER WITH KMEANS- PER TO SALARY"
   ]
  },
  {
   "cell_type": "code",
   "execution_count": 12,
   "metadata": {},
   "outputs": [],
   "source": [
    "\n",
    "# Set up data\n",
    "\n",
    "X = dfmain['PER'].values.reshape(-1,1)\n",
    "y= dfmain['Salary'].values.reshape(-1,1)\n",
    "X_train, X_test, y_train, y_test = train_test_split(X, y, test_size=0.1, random_state=42)"
   ]
  },
  {
   "cell_type": "code",
   "execution_count": 13,
   "metadata": {},
   "outputs": [],
   "source": [
    "kmc = KMeans(n_clusters=4, max_iter=1000, n_init=20)"
   ]
  },
  {
   "cell_type": "code",
   "execution_count": null,
   "metadata": {},
   "outputs": [],
   "source": []
  },
  {
   "cell_type": "code",
   "execution_count": 14,
   "metadata": {},
   "outputs": [
    {
     "data": {
      "text/plain": [
       "array([0, 0, 0, 0, 0, 0, 0, 0, 0, 2, 0, 2, 0, 0, 2, 2, 0, 2, 2, 2, 0, 0,\n",
       "       0, 2, 2, 2, 0, 2, 2, 2, 2, 2, 0, 2, 0, 0, 0, 0, 2, 0, 2, 0, 2, 2,\n",
       "       2, 0, 2, 2, 2, 2, 1, 2, 2, 1, 1, 2, 2, 1, 1, 2, 2, 1, 1, 2, 2, 2,\n",
       "       1, 2, 1, 1, 1, 2, 0, 2, 2, 0, 2, 2, 1, 2, 2, 1, 1, 2, 1, 2, 2, 2,\n",
       "       2, 2, 2, 1, 1, 1, 2, 2, 1, 2, 1, 1, 1, 1, 1, 0, 2, 1, 1, 2, 1, 1,\n",
       "       1, 2, 1, 2, 2, 1, 1, 2, 2, 1, 2, 1, 0, 1, 1, 2, 2, 2, 2, 1, 1, 1,\n",
       "       2, 2, 1, 0, 1, 2, 2, 1, 2, 1, 1, 0, 1, 1, 1, 1, 2, 1, 2, 1, 1, 1,\n",
       "       1, 2, 2, 1, 1, 2, 2, 1, 2, 2, 1, 1, 1, 1, 1, 1, 2, 2, 2, 2, 0, 0,\n",
       "       2, 2, 1, 2, 1, 1, 1, 2, 2, 1, 1, 0, 1, 1, 2, 1, 2, 1, 1, 1, 1, 2,\n",
       "       2, 1, 1, 1, 2, 1, 1, 1, 2, 1, 0, 1, 2, 2, 1, 1, 1, 1, 2, 1, 0, 0,\n",
       "       1, 1, 1, 0, 1, 1, 1, 1, 1, 1, 2, 2, 1, 2, 1, 2, 1, 2, 0, 1, 2, 2,\n",
       "       1, 1, 1, 0, 1, 1, 2, 1, 1, 2, 2, 2, 1, 2, 1, 2, 1, 1, 1, 1, 2, 1,\n",
       "       1, 1, 1, 2, 0, 2, 1, 1, 2, 1, 1, 1, 2, 1, 1, 2, 1, 1, 1],\n",
       "      dtype=int32)"
      ]
     },
     "execution_count": 14,
     "metadata": {},
     "output_type": "execute_result"
    }
   ],
   "source": [
    "kmeans = KMeans(n_clusters=3)\n",
    "kmeans.fit(X)\n",
    "\n",
    "kmeans.predict(X)"
   ]
  },
  {
   "cell_type": "code",
   "execution_count": 15,
   "metadata": {},
   "outputs": [
    {
     "data": {
      "text/plain": [
       "KMeans(algorithm='auto', copy_x=True, init='k-means++', max_iter=1000,\n",
       "       n_clusters=4, n_init=20, n_jobs=None, precompute_distances='auto',\n",
       "       random_state=None, tol=0.0001, verbose=0)"
      ]
     },
     "execution_count": 15,
     "metadata": {},
     "output_type": "execute_result"
    }
   ],
   "source": [
    "# Fit\n",
    "kmc.fit(X_train, y_train)"
   ]
  },
  {
   "cell_type": "code",
   "execution_count": 16,
   "metadata": {},
   "outputs": [
    {
     "data": {
      "text/plain": [
       "<seaborn.axisgrid.JointGrid at 0x1a19d6b748>"
      ]
     },
     "execution_count": 16,
     "metadata": {},
     "output_type": "execute_result"
    },
    {
     "data": {
      "image/png": "[encoded data removed]",
      "text/plain": [
       "<Figure size 432x432 with 3 Axes>"
      ]
     },
     "metadata": {
      "needs_background": "light"
     },
     "output_type": "display_data"
    }
   ],
   "source": [
    "sns.jointplot(x=\"PER\", y=\"Salary\", data=dfmain)"
   ]
  },
  {
   "cell_type": "code",
   "execution_count": 17,
   "metadata": {},
   "outputs": [
    {
     "data": {
      "text/plain": [
       "array([[22.1804878 ],\n",
       "       [11.428125  ],\n",
       "       [16.17894737]])"
      ]
     },
     "execution_count": 17,
     "metadata": {},
     "output_type": "execute_result"
    }
   ],
   "source": [
    "#cluster centers\n",
    "kmeans.cluster_centers_"
   ]
  },
  {
   "cell_type": "code",
   "execution_count": 28,
   "metadata": {},
   "outputs": [
    {
     "data": {
      "text/plain": [
       "<matplotlib.axes._subplots.AxesSubplot at 0x1a1c1c64e0>"
      ]
     },
     "execution_count": 28,
     "metadata": {},
     "output_type": "execute_result"
    },
    {
     "data": {
      "image/png": "[encoded data removed]",
      "text/plain": [
       "<Figure size 864x576 with 1 Axes>"
      ]
     },
     "metadata": {
      "needs_background": "light"
     },
     "output_type": "display_data"
    }
   ],
   "source": [
    "plt.figure(figsize=(12, 8))\n",
    "sns.scatterplot(dfmain.PER, dfmain.Salary)"
   ]
  },
  {
   "cell_type": "code",
   "execution_count": 30,
   "metadata": {},
   "outputs": [
    {
     "name": "stdout",
     "output_type": "stream",
     "text": [
      "   k                       sse\n",
      "0  1 28,361,057,313,506,264.00\n",
      "1  2  7,060,622,061,343,477.00\n",
      "2  3  2,659,184,856,989,124.00\n",
      "3  4  1,648,394,510,715,203.75\n",
      "4  5    966,879,810,818,908.38\n",
      "5  6    640,525,921,830,929.50\n",
      "6  7    486,722,803,311,259.75\n",
      "7  8    341,933,224,707,763.06\n",
      "8  9    260,337,870,506,741.91\n"
     ]
    },
    {
     "data": {
      "text/plain": [
       "Text(0.5, 1.0, 'The Elbow Method showing the optimal k')"
      ]
     },
     "execution_count": 30,
     "metadata": {},
     "output_type": "execute_result"
    },
    {
     "data": {
      "image/png": "[encoded data removed]",
      "text/plain": [
       "<Figure size 864x432 with 1 Axes>"
      ]
     },
     "metadata": {
      "needs_background": "light"
     },
     "output_type": "display_data"
    }
   ],
   "source": [
    "ks = range(1,10)\n",
    "sse = []\n",
    "for k in ks:\n",
    "    kmeans = KMeans(n_clusters=k)\n",
    "    kmeans.fit(dfmain[['PER', 'Salary']])\n",
    "    sse.append(kmeans.inertia_)\n",
    "\n",
    "print(pd.DataFrame(dict(k=ks, sse=sse)))\n",
    "\n",
    "plt.figure(figsize=(12, 6))\n",
    "plt.plot(ks, sse, 'bx-')\n",
    "plt.xlabel('k')\n",
    "plt.ylabel('SSE')\n",
    "plt.title('The Elbow Method showing the optimal k')"
   ]
  },
  {
   "cell_type": "code",
   "execution_count": 31,
   "metadata": {},
   "outputs": [],
   "source": [
    "#2 and 3 cluster is optimal\n",
    "estimators = [('2 Clusters', KMeans(n_clusters=2)),\n",
    "              ('3 Clusters', KMeans(n_clusters=3))]"
   ]
  },
  {
   "cell_type": "code",
   "execution_count": 33,
   "metadata": {},
   "outputs": [
    {
     "data": {
      "image/png": "[encoded data removed]",
      "text/plain": [
       "<Figure size 864x432 with 2 Axes>"
      ]
     },
     "metadata": {
      "needs_background": "light"
     },
     "output_type": "display_data"
    }
   ],
   "source": [
    "fig, axs = plt.subplots(nrows=1,ncols=2, figsize=(12,6))\n",
    "\n",
    "for ax, (title, kmeans) in zip(axs, estimators):\n",
    "    kmeans.fit(dfmain[['PER', 'Salary']])\n",
    "    labels = 'cluster ' + pd.Series(kmeans.labels_).astype(str)\n",
    "    ax.set(title=title)\n",
    "    sns.scatterplot(dfmain.PER, dfmain.Salary, hue=labels, ax=ax)"
   ]
  },
  {
   "cell_type": "code",
   "execution_count": 36,
   "metadata": {},
   "outputs": [
    {
     "data": {
      "text/plain": [
       "<seaborn.axisgrid.FacetGrid at 0x1a1bccd390>"
      ]
     },
     "execution_count": 36,
     "metadata": {},
     "output_type": "execute_result"
    },
    {
     "data": {
      "image/png": "[encoded data removed]",
      "text/plain": [
       "<Figure size 360x1080 with 3 Axes>"
      ]
     },
     "metadata": {
      "needs_background": "light"
     },
     "output_type": "display_data"
    }
   ],
   "source": [
    "dfmain['cluster'] = kmeans.labels_\n",
    "dfmain.cluster = 'cluster_' + (dfmain.cluster + 1).astype('str')\n",
    "sns.relplot(data=dfmain, x='PER', y='Salary', row='cluster')"
   ]
  },
  {
   "cell_type": "code",
   "execution_count": 50,
   "metadata": {},
   "outputs": [
    {
     "data": {
      "text/plain": [
       "0     cluster_1\n",
       "1     cluster_1\n",
       "2     cluster_1\n",
       "3     cluster_1\n",
       "4     cluster_1\n",
       "5     cluster_1\n",
       "6     cluster_1\n",
       "7     cluster_1\n",
       "8     cluster_1\n",
       "9     cluster_1\n",
       "10    cluster_1\n",
       "11    cluster_1\n",
       "12    cluster_1\n",
       "13    cluster_1\n",
       "14    cluster_1\n",
       "15    cluster_1\n",
       "16    cluster_1\n",
       "17    cluster_1\n",
       "18    cluster_1\n",
       "19    cluster_1\n",
       "20    cluster_1\n",
       "21    cluster_1\n",
       "22    cluster_1\n",
       "23    cluster_1\n",
       "24    cluster_1\n",
       "25    cluster_1\n",
       "26    cluster_1\n",
       "27    cluster_1\n",
       "28    cluster_1\n",
       "29    cluster_1\n",
       "30    cluster_1\n",
       "31    cluster_1\n",
       "32    cluster_1\n",
       "33    cluster_1\n",
       "34    cluster_1\n",
       "35    cluster_1\n",
       "36    cluster_1\n",
       "37    cluster_1\n",
       "38    cluster_1\n",
       "39    cluster_1\n",
       "40    cluster_1\n",
       "41    cluster_1\n",
       "42    cluster_1\n",
       "43    cluster_1\n",
       "44    cluster_1\n",
       "45    cluster_1\n",
       "46    cluster_1\n",
       "47    cluster_1\n",
       "48    cluster_3\n",
       "49    cluster_3\n",
       "Name: cluster, dtype: object"
      ]
     },
     "execution_count": 50,
     "metadata": {},
     "output_type": "execute_result"
    }
   ],
   "source": [
    "# 3 Clusters is best for dividing players up by salary\n"
   ]
  },
  {
   "cell_type": "code",
   "execution_count": 55,
   "metadata": {},
   "outputs": [
    {
     "data": {
      "text/html": [
       "<div>\n",
       "<style scoped>\n",
       "    .dataframe tbody tr th:only-of-type {\n",
       "        vertical-align: middle;\n",
       "    }\n",
       "\n",
       "    .dataframe tbody tr th {\n",
       "        vertical-align: top;\n",
       "    }\n",
       "\n",
       "    .dataframe thead th {\n",
       "        text-align: right;\n",
       "    }\n",
       "</style>\n",
       "<table border=\"1\" class=\"dataframe\">\n",
       "  <thead>\n",
       "    <tr style=\"text-align: right;\">\n",
       "      <th></th>\n",
       "      <th>Rk_x</th>\n",
       "      <th>Salary</th>\n",
       "      <th>Guaranteed</th>\n",
       "      <th>MP</th>\n",
       "      <th>PER</th>\n",
       "      <th>G</th>\n",
       "      <th>GS</th>\n",
       "      <th>FG</th>\n",
       "      <th>FGA</th>\n",
       "      <th>2P</th>\n",
       "      <th>...</th>\n",
       "      <th>BLK</th>\n",
       "      <th>TOV</th>\n",
       "      <th>PF</th>\n",
       "      <th>PTS</th>\n",
       "      <th>FG%</th>\n",
       "      <th>2P%</th>\n",
       "      <th>3P%</th>\n",
       "      <th>eFG%</th>\n",
       "      <th>FT%</th>\n",
       "      <th>TS%</th>\n",
       "    </tr>\n",
       "    <tr>\n",
       "      <th>cluster</th>\n",
       "      <th></th>\n",
       "      <th></th>\n",
       "      <th></th>\n",
       "      <th></th>\n",
       "      <th></th>\n",
       "      <th></th>\n",
       "      <th></th>\n",
       "      <th></th>\n",
       "      <th></th>\n",
       "      <th></th>\n",
       "      <th></th>\n",
       "      <th></th>\n",
       "      <th></th>\n",
       "      <th></th>\n",
       "      <th></th>\n",
       "      <th></th>\n",
       "      <th></th>\n",
       "      <th></th>\n",
       "      <th></th>\n",
       "      <th></th>\n",
       "      <th></th>\n",
       "    </tr>\n",
       "  </thead>\n",
       "  <tbody>\n",
       "    <tr>\n",
       "      <th>cluster_1</th>\n",
       "      <td>24.50</td>\n",
       "      <td>29,925,039.83</td>\n",
       "      <td>89,762,396.75</td>\n",
       "      <td>32.29</td>\n",
       "      <td>20.01</td>\n",
       "      <td>592.23</td>\n",
       "      <td>534.79</td>\n",
       "      <td>6.54</td>\n",
       "      <td>13.87</td>\n",
       "      <td>5.23</td>\n",
       "      <td>...</td>\n",
       "      <td>0.81</td>\n",
       "      <td>2.21</td>\n",
       "      <td>2.39</td>\n",
       "      <td>17.99</td>\n",
       "      <td>0.48</td>\n",
       "      <td>0.51</td>\n",
       "      <td>0.33</td>\n",
       "      <td>0.52</td>\n",
       "      <td>0.79</td>\n",
       "      <td>0.57</td>\n",
       "    </tr>\n",
       "    <tr>\n",
       "      <th>cluster_2</th>\n",
       "      <td>263.62</td>\n",
       "      <td>4,135,893.48</td>\n",
       "      <td>12,016,646.43</td>\n",
       "      <td>25.44</td>\n",
       "      <td>13.47</td>\n",
       "      <td>364.27</td>\n",
       "      <td>204.11</td>\n",
       "      <td>3.97</td>\n",
       "      <td>8.89</td>\n",
       "      <td>2.96</td>\n",
       "      <td>...</td>\n",
       "      <td>0.45</td>\n",
       "      <td>1.43</td>\n",
       "      <td>2.09</td>\n",
       "      <td>10.66</td>\n",
       "      <td>0.45</td>\n",
       "      <td>0.49</td>\n",
       "      <td>0.33</td>\n",
       "      <td>0.51</td>\n",
       "      <td>0.75</td>\n",
       "      <td>0.54</td>\n",
       "    </tr>\n",
       "    <tr>\n",
       "      <th>cluster_3</th>\n",
       "      <td>88.05</td>\n",
       "      <td>14,644,947.33</td>\n",
       "      <td>31,699,187.87</td>\n",
       "      <td>26.14</td>\n",
       "      <td>14.68</td>\n",
       "      <td>477.27</td>\n",
       "      <td>295.24</td>\n",
       "      <td>4.13</td>\n",
       "      <td>9.01</td>\n",
       "      <td>3.19</td>\n",
       "      <td>...</td>\n",
       "      <td>0.55</td>\n",
       "      <td>1.47</td>\n",
       "      <td>2.18</td>\n",
       "      <td>10.98</td>\n",
       "      <td>0.46</td>\n",
       "      <td>0.50</td>\n",
       "      <td>0.31</td>\n",
       "      <td>0.51</td>\n",
       "      <td>0.75</td>\n",
       "      <td>0.55</td>\n",
       "    </tr>\n",
       "  </tbody>\n",
       "</table>\n",
       "<p>3 rows × 30 columns</p>\n",
       "</div>"
      ],
      "text/plain": [
       "                          Rk_x               Salary           Guaranteed  \\\n",
       "cluster                                                                    \n",
       "cluster_1                24.50        29,925,039.83        89,762,396.75   \n",
       "cluster_2               263.62         4,135,893.48        12,016,646.43   \n",
       "cluster_3                88.05        14,644,947.33        31,699,187.87   \n",
       "\n",
       "                            MP                  PER                    G  \\\n",
       "cluster                                                                    \n",
       "cluster_1                32.29                20.01               592.23   \n",
       "cluster_2                25.44                13.47               364.27   \n",
       "cluster_3                26.14                14.68               477.27   \n",
       "\n",
       "                            GS                   FG                  FGA  \\\n",
       "cluster                                                                    \n",
       "cluster_1               534.79                 6.54                13.87   \n",
       "cluster_2               204.11                 3.97                 8.89   \n",
       "cluster_3               295.24                 4.13                 9.01   \n",
       "\n",
       "                            2P  ...                  BLK                  TOV  \\\n",
       "cluster                         ...                                             \n",
       "cluster_1                 5.23  ...                 0.81                 2.21   \n",
       "cluster_2                 2.96  ...                 0.45                 1.43   \n",
       "cluster_3                 3.19  ...                 0.55                 1.47   \n",
       "\n",
       "                            PF                  PTS                  FG%  \\\n",
       "cluster                                                                    \n",
       "cluster_1                 2.39                17.99                 0.48   \n",
       "cluster_2                 2.09                10.66                 0.45   \n",
       "cluster_3                 2.18                10.98                 0.46   \n",
       "\n",
       "                           2P%                  3P%                 eFG%  \\\n",
       "cluster                                                                    \n",
       "cluster_1                 0.51                 0.33                 0.52   \n",
       "cluster_2                 0.49                 0.33                 0.51   \n",
       "cluster_3                 0.50                 0.31                 0.51   \n",
       "\n",
       "                           FT%                  TS%  \n",
       "cluster                                              \n",
       "cluster_1                 0.79                 0.57  \n",
       "cluster_2                 0.75                 0.54  \n",
       "cluster_3                 0.75                 0.55  \n",
       "\n",
       "[3 rows x 30 columns]"
      ]
     },
     "execution_count": 55,
     "metadata": {},
     "output_type": "execute_result"
    }
   ],
   "source": [
    "dfmain.groupby('cluster').mean()"
   ]
  },
  {
   "cell_type": "code",
   "execution_count": 56,
   "metadata": {},
   "outputs": [
    {
     "name": "stdout",
     "output_type": "stream",
     "text": [
      "<class 'pandas.core.frame.DataFrame'>\n",
      "Int64Index: 283 entries, 0 to 282\n",
      "Data columns (total 33 columns):\n",
      "Rk_x          283 non-null int64\n",
      "Player        283 non-null object\n",
      "Salary        283 non-null int64\n",
      "Guaranteed    282 non-null float64\n",
      "Tm            283 non-null object\n",
      "MP            283 non-null float64\n",
      "PER           283 non-null float64\n",
      "G             283 non-null int64\n",
      "GS            283 non-null int64\n",
      "FG            283 non-null float64\n",
      "FGA           283 non-null float64\n",
      "2P            283 non-null float64\n",
      "2PA           283 non-null float64\n",
      "3P            283 non-null float64\n",
      "3PA           283 non-null float64\n",
      "FT            283 non-null float64\n",
      "FTA           283 non-null float64\n",
      "ORB           283 non-null float64\n",
      "DRB           283 non-null float64\n",
      "TRB           283 non-null float64\n",
      "AST           283 non-null float64\n",
      "STL           283 non-null float64\n",
      "BLK           283 non-null float64\n",
      "TOV           283 non-null float64\n",
      "PF            283 non-null float64\n",
      "PTS           283 non-null float64\n",
      "FG%           283 non-null float64\n",
      "2P%           283 non-null float64\n",
      "3P%           282 non-null float64\n",
      "eFG%          283 non-null float64\n",
      "FT%           283 non-null float64\n",
      "TS%           283 non-null float64\n",
      "cluster       283 non-null object\n",
      "dtypes: float64(26), int64(4), object(3)\n",
      "memory usage: 85.2+ KB\n"
     ]
    }
   ],
   "source": []
  },
  {
   "cell_type": "code",
   "execution_count": null,
   "metadata": {},
   "outputs": [],
   "source": []
  }
 ],
 "metadata": {
  "kernelspec": {
   "display_name": "Python 3",
   "language": "python",
   "name": "python3"
  },
  "language_info": {
   "codemirror_mode": {
    "name": "ipython",
    "version": 3
   },
   "file_extension": ".py",
   "mimetype": "text/x-python",
   "name": "python",
   "nbconvert_exporter": "python",
   "pygments_lexer": "ipython3",
   "version": "3.7.3"
  }
 },
 "nbformat": 4,
 "nbformat_minor": 2
}
