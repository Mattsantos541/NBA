{
 "cells": [
  {
   "cell_type": "code",
   "execution_count": 43,
   "metadata": {},
   "outputs": [],
   "source": [
    "import pandas as pd\n",
    "import numpy as np\n",
    "from sklearn.cluster import KMeans\n",
    "from sklearn import datasets\n",
    "# ignore warnings\n",
    "import warnings\n",
    "warnings.filterwarnings(\"ignore\")\n",
    "\n",
    "# Wrangling\n",
    "import pandas as pd\n",
    "import numpy as np\n",
    "\n",
    "# Visualizing\n",
    "%matplotlib inline\n",
    "import matplotlib.pyplot as plt\n",
    "from matplotlib import cm\n",
    "import seaborn as sns\n",
    "\n",
    "# Modeling\n",
    "from sklearn.cluster import KMeans\n",
    "from sklearn.preprocessing import LabelEncoder\n",
    "from sklearn.model_selection import train_test_split\n",
    "\n",
    "# Though the following import is not directly being used, it is required\n",
    "# for 3D projection to work\n",
    "from mpl_toolkits.mplot3d import Axes3D\n",
    "\n",
    "pd.options.display.float_format = '{:20,.2f}'.format"
   ]
  },
  {
   "cell_type": "markdown",
   "metadata": {},
   "source": [
    "##### Acquire the data sets\n",
    "###### from basketballreference.com"
   ]
  },
  {
   "cell_type": "code",
   "execution_count": 2,
   "metadata": {},
   "outputs": [],
   "source": [
    "df= pd.read_excel('activeplayers.xls')"
   ]
  },
  {
   "cell_type": "code",
   "execution_count": 3,
   "metadata": {},
   "outputs": [],
   "source": [
    "df=pd.DataFrame(df)"
   ]
  },
  {
   "cell_type": "code",
   "execution_count": 4,
   "metadata": {},
   "outputs": [],
   "source": [
    "salary= pd.read_excel('salary.xls')"
   ]
  },
  {
   "cell_type": "code",
   "execution_count": 5,
   "metadata": {},
   "outputs": [],
   "source": [
    "salary= pd.DataFrame(salary)"
   ]
  },
  {
   "cell_type": "markdown",
   "metadata": {},
   "source": [
    "#### Prep\n",
    "Must merge the tables (based on player name)\n",
    "Exclude players not currently active or have nulls in necesary columns"
   ]
  },
  {
   "cell_type": "code",
   "execution_count": 24,
   "metadata": {},
   "outputs": [
    {
     "data": {
      "text/html": [
       "<div>\n",
       "<style scoped>\n",
       "    .dataframe tbody tr th:only-of-type {\n",
       "        vertical-align: middle;\n",
       "    }\n",
       "\n",
       "    .dataframe tbody tr th {\n",
       "        vertical-align: top;\n",
       "    }\n",
       "\n",
       "    .dataframe thead th {\n",
       "        text-align: right;\n",
       "    }\n",
       "</style>\n",
       "<table border=\"1\" class=\"dataframe\">\n",
       "  <thead>\n",
       "    <tr style=\"text-align: right;\">\n",
       "      <th></th>\n",
       "      <th></th>\n",
       "      <th>Rk</th>\n",
       "      <th>Player</th>\n",
       "      <th>Tm</th>\n",
       "      <th>2019-20</th>\n",
       "      <th>2020-21</th>\n",
       "      <th>2021-22</th>\n",
       "      <th>2022-23</th>\n",
       "      <th>2023-24</th>\n",
       "      <th>2024-25</th>\n",
       "      <th>Signed Using</th>\n",
       "      <th>Guaranteed</th>\n",
       "    </tr>\n",
       "  </thead>\n",
       "  <tbody>\n",
       "    <tr>\n",
       "      <th rowspan=\"5\" valign=\"top\">player</th>\n",
       "      <th>0</th>\n",
       "      <td>1</td>\n",
       "      <td>Stephen Curry</td>\n",
       "      <td>GSW</td>\n",
       "      <td>40231758</td>\n",
       "      <td>43006362.0</td>\n",
       "      <td>45780966.0</td>\n",
       "      <td>NaN</td>\n",
       "      <td>NaN</td>\n",
       "      <td>NaN</td>\n",
       "      <td>Bird Rights</td>\n",
       "      <td>129019086.0</td>\n",
       "    </tr>\n",
       "    <tr>\n",
       "      <th>1</th>\n",
       "      <td>2</td>\n",
       "      <td>Chris Paul</td>\n",
       "      <td>OKC</td>\n",
       "      <td>38506482</td>\n",
       "      <td>41358814.0</td>\n",
       "      <td>44211146.0</td>\n",
       "      <td>NaN</td>\n",
       "      <td>NaN</td>\n",
       "      <td>NaN</td>\n",
       "      <td>NaN</td>\n",
       "      <td>124076442.0</td>\n",
       "    </tr>\n",
       "    <tr>\n",
       "      <th>2</th>\n",
       "      <td>3</td>\n",
       "      <td>Russell Westbrook</td>\n",
       "      <td>HOU</td>\n",
       "      <td>38178000</td>\n",
       "      <td>41006000.0</td>\n",
       "      <td>43848000.0</td>\n",
       "      <td>46662000.0</td>\n",
       "      <td>NaN</td>\n",
       "      <td>NaN</td>\n",
       "      <td>Bird Rights</td>\n",
       "      <td>123032000.0</td>\n",
       "    </tr>\n",
       "    <tr>\n",
       "      <th>3</th>\n",
       "      <td>4</td>\n",
       "      <td>John Wall</td>\n",
       "      <td>WAS</td>\n",
       "      <td>37800000</td>\n",
       "      <td>40824000.0</td>\n",
       "      <td>43848000.0</td>\n",
       "      <td>46872000.0</td>\n",
       "      <td>NaN</td>\n",
       "      <td>NaN</td>\n",
       "      <td>Bird Rights</td>\n",
       "      <td>122472000.0</td>\n",
       "    </tr>\n",
       "    <tr>\n",
       "      <th>4</th>\n",
       "      <td>5</td>\n",
       "      <td>James Harden</td>\n",
       "      <td>HOU</td>\n",
       "      <td>37800000</td>\n",
       "      <td>40824000.0</td>\n",
       "      <td>43848000.0</td>\n",
       "      <td>46872000.0</td>\n",
       "      <td>NaN</td>\n",
       "      <td>NaN</td>\n",
       "      <td>Bird Rights</td>\n",
       "      <td>122472000.0</td>\n",
       "    </tr>\n",
       "  </tbody>\n",
       "</table>\n",
       "</div>"
      ],
      "text/plain": [
       "          Rk             Player   Tm   2019-20     2020-21     2021-22  \\\n",
       "player 0   1      Stephen Curry  GSW  40231758  43006362.0  45780966.0   \n",
       "       1   2         Chris Paul  OKC  38506482  41358814.0  44211146.0   \n",
       "       2   3  Russell Westbrook  HOU  38178000  41006000.0  43848000.0   \n",
       "       3   4          John Wall  WAS  37800000  40824000.0  43848000.0   \n",
       "       4   5       James Harden  HOU  37800000  40824000.0  43848000.0   \n",
       "\n",
       "             2022-23  2023-24  2024-25 Signed Using   Guaranteed  \n",
       "player 0         NaN      NaN      NaN  Bird Rights  129019086.0  \n",
       "       1         NaN      NaN      NaN          NaN  124076442.0  \n",
       "       2  46662000.0      NaN      NaN  Bird Rights  123032000.0  \n",
       "       3  46872000.0      NaN      NaN  Bird Rights  122472000.0  \n",
       "       4  46872000.0      NaN      NaN  Bird Rights  122472000.0  "
      ]
     },
     "execution_count": 24,
     "metadata": {},
     "output_type": "execute_result"
    }
   ],
   "source": [
    "pieces = {'player': df, 'player': salary}\n",
    "\n",
    "df_sal = pd.concat(pieces)\n",
    "\n",
    "df_sal.head()"
   ]
  },
  {
   "cell_type": "code",
   "execution_count": 25,
   "metadata": {},
   "outputs": [],
   "source": [
    "\n",
    "df_sal= df_sal.drop(df_sal[[ '2020-21', '2021-22', '2022-23', '2023-24', '2024-25', 'Tm', 'Signed Using']], axis=1)"
   ]
  },
  {
   "cell_type": "code",
   "execution_count": 31,
   "metadata": {},
   "outputs": [],
   "source": [
    "df_sal.rename(columns = {'2019-20':'Salary', 'Guranteed':'FullContract'}, inplace = True)"
   ]
  },
  {
   "cell_type": "code",
   "execution_count": 32,
   "metadata": {},
   "outputs": [
    {
     "data": {
      "text/html": [
       "<div>\n",
       "<style scoped>\n",
       "    .dataframe tbody tr th:only-of-type {\n",
       "        vertical-align: middle;\n",
       "    }\n",
       "\n",
       "    .dataframe tbody tr th {\n",
       "        vertical-align: top;\n",
       "    }\n",
       "\n",
       "    .dataframe thead th {\n",
       "        text-align: right;\n",
       "    }\n",
       "</style>\n",
       "<table border=\"1\" class=\"dataframe\">\n",
       "  <thead>\n",
       "    <tr style=\"text-align: right;\">\n",
       "      <th></th>\n",
       "      <th></th>\n",
       "      <th>Rk</th>\n",
       "      <th>Player</th>\n",
       "      <th>salary</th>\n",
       "      <th>Guaranteed</th>\n",
       "    </tr>\n",
       "  </thead>\n",
       "  <tbody>\n",
       "    <tr>\n",
       "      <th>player</th>\n",
       "      <th>0</th>\n",
       "      <td>1</td>\n",
       "      <td>Stephen Curry</td>\n",
       "      <td>40231758</td>\n",
       "      <td>129019086.0</td>\n",
       "    </tr>\n",
       "  </tbody>\n",
       "</table>\n",
       "</div>"
      ],
      "text/plain": [
       "          Rk         Player    salary   Guaranteed\n",
       "player 0   1  Stephen Curry  40231758  129019086.0"
      ]
     },
     "execution_count": 32,
     "metadata": {},
     "output_type": "execute_result"
    }
   ],
   "source": [
    "df_sal.head(1)"
   ]
  },
  {
   "cell_type": "code",
   "execution_count": 35,
   "metadata": {},
   "outputs": [
    {
     "data": {
      "text/html": [
       "<div>\n",
       "<style scoped>\n",
       "    .dataframe tbody tr th:only-of-type {\n",
       "        vertical-align: middle;\n",
       "    }\n",
       "\n",
       "    .dataframe tbody tr th {\n",
       "        vertical-align: top;\n",
       "    }\n",
       "\n",
       "    .dataframe thead th {\n",
       "        text-align: right;\n",
       "    }\n",
       "</style>\n",
       "<table border=\"1\" class=\"dataframe\">\n",
       "  <thead>\n",
       "    <tr style=\"text-align: right;\">\n",
       "      <th></th>\n",
       "      <th>Rk_x</th>\n",
       "      <th>Player</th>\n",
       "      <th>salary</th>\n",
       "      <th>Guaranteed</th>\n",
       "      <th>Rk_y</th>\n",
       "      <th>From</th>\n",
       "      <th>To</th>\n",
       "      <th>Tm</th>\n",
       "      <th>Lg</th>\n",
       "      <th>MP</th>\n",
       "      <th>...</th>\n",
       "      <th>BLK</th>\n",
       "      <th>TOV</th>\n",
       "      <th>PF</th>\n",
       "      <th>PTS</th>\n",
       "      <th>FG%</th>\n",
       "      <th>2P%</th>\n",
       "      <th>3P%</th>\n",
       "      <th>eFG%</th>\n",
       "      <th>FT%</th>\n",
       "      <th>TS%</th>\n",
       "    </tr>\n",
       "  </thead>\n",
       "  <tbody>\n",
       "    <tr>\n",
       "      <th>0</th>\n",
       "      <td>1</td>\n",
       "      <td>Stephen Curry</td>\n",
       "      <td>40231758</td>\n",
       "      <td>129019086.0</td>\n",
       "      <td>10</td>\n",
       "      <td>2010</td>\n",
       "      <td>2020</td>\n",
       "      <td>GSW</td>\n",
       "      <td>NBA</td>\n",
       "      <td>34.3</td>\n",
       "      <td>...</td>\n",
       "      <td>0.2</td>\n",
       "      <td>3.1</td>\n",
       "      <td>2.5</td>\n",
       "      <td>23.5</td>\n",
       "      <td>0.476</td>\n",
       "      <td>0.515</td>\n",
       "      <td>0.435</td>\n",
       "      <td>0.581</td>\n",
       "      <td>0.905</td>\n",
       "      <td>0.623</td>\n",
       "    </tr>\n",
       "  </tbody>\n",
       "</table>\n",
       "<p>1 rows × 36 columns</p>\n",
       "</div>"
      ],
      "text/plain": [
       "   Rk_x         Player    salary   Guaranteed  Rk_y  From    To   Tm   Lg  \\\n",
       "0     1  Stephen Curry  40231758  129019086.0    10  2010  2020  GSW  NBA   \n",
       "\n",
       "     MP  ...  BLK  TOV   PF   PTS    FG%    2P%    3P%   eFG%    FT%    TS%  \n",
       "0  34.3  ...  0.2  3.1  2.5  23.5  0.476  0.515  0.435  0.581  0.905  0.623  \n",
       "\n",
       "[1 rows x 36 columns]"
      ]
     },
     "execution_count": 35,
     "metadata": {},
     "output_type": "execute_result"
    }
   ],
   "source": [
    "dfmain= pd.merge(df_sal, df, on='Player')\n",
    "\n",
    "dfmain.head(1)"
   ]
  },
  {
   "cell_type": "code",
   "execution_count": 37,
   "metadata": {},
   "outputs": [],
   "source": [
    "dfmain= dfmain.drop(dfmain[[ 'Rk_y', 'From', 'To', 'Lg']], axis=1)"
   ]
  },
  {
   "cell_type": "markdown",
   "metadata": {},
   "source": [
    "##### ALL THE IRRELEVANT COLUMNS HAVE BEEN DELETED"
   ]
  },
  {
   "cell_type": "code",
   "execution_count": null,
   "metadata": {},
   "outputs": [],
   "source": []
  },
  {
   "cell_type": "markdown",
   "metadata": {},
   "source": [
    "##### INITIAL CLUSTER WITH KMEANS- PER TO SALARY"
   ]
  },
  {
   "cell_type": "code",
   "execution_count": 59,
   "metadata": {},
   "outputs": [],
   "source": [
    "\n",
    "# Set up data\n",
    "\n",
    "X = dfmain['PER'].values.reshape(-1,1)\n",
    "y= dfmain['salary'].values.reshape(-1,1)\n",
    "X_train, X_test, y_train, y_test = train_test_split(X, y, test_size=0.1, random_state=42)"
   ]
  },
  {
   "cell_type": "code",
   "execution_count": 60,
   "metadata": {},
   "outputs": [],
   "source": [
    "kmc = KMeans(n_clusters=4, max_iter=1000, n_init=20)"
   ]
  },
  {
   "cell_type": "code",
   "execution_count": 68,
   "metadata": {},
   "outputs": [
    {
     "data": {
      "text/plain": [
       "array([1, 1, 1, 4, 1, 1, 1, 4, 1, 4, 4, 3, 4, 1, 3, 3, 1, 3, 3, 4, 1, 1,\n",
       "       4, 4, 4, 3, 1, 4, 3, 3, 3, 3, 1, 3, 1, 1, 1, 1, 3, 4, 3, 1, 4, 3,\n",
       "       3, 1, 3, 3, 3, 3, 0, 3, 3, 0, 0, 3, 3, 0, 0, 3, 3, 0, 0, 3, 3, 3,\n",
       "       0, 3, 0, 0, 0, 4, 1, 3, 3, 4, 0, 4, 0, 3, 3, 0, 0, 3, 0, 3, 3, 4,\n",
       "       3, 3, 3, 2, 2, 0, 3, 3, 0, 3, 0, 0, 0, 0, 0, 4, 4, 0, 0, 3, 0, 2,\n",
       "       0, 3, 2, 3, 3, 0, 0, 4, 3, 0, 3, 2, 4, 0, 0, 3, 3, 0, 3, 0, 0, 0,\n",
       "       4, 0, 0, 4, 0, 4, 3, 0, 3, 0, 0, 4, 0, 0, 2, 0, 4, 0, 0, 2, 2, 0,\n",
       "       0, 3, 3, 0, 0, 3, 3, 2, 3, 4, 0, 2, 0, 0, 0, 0, 3, 3, 3, 3, 1, 1,\n",
       "       3, 3, 2, 3, 0, 0, 0, 3, 0, 2, 2, 4, 0, 2, 3, 0, 3, 2, 2, 2, 2, 0,\n",
       "       3, 0, 0, 0, 3, 2, 0, 0, 3, 0, 1, 0, 0, 3, 0, 0, 2, 2, 0, 0, 1, 1,\n",
       "       0, 0, 2, 4, 2, 0, 0, 0, 0, 0, 3, 3, 0, 3, 0, 4, 2, 3, 1, 2, 4, 3,\n",
       "       2, 0, 0, 4, 0, 2, 3, 2, 0, 3, 0, 0, 2, 0, 2, 3, 0, 0, 2, 0, 3, 0,\n",
       "       2, 0, 2, 3, 1, 0, 2, 2, 3, 0, 0, 2, 3, 0, 0, 3, 0, 2, 0],\n",
       "      dtype=int32)"
      ]
     },
     "execution_count": 68,
     "metadata": {},
     "output_type": "execute_result"
    }
   ],
   "source": [
    "kmeans = KMeans(n_clusters=5)\n",
    "kmeans.fit(X)\n",
    "\n",
    "kmeans.predict(X)"
   ]
  },
  {
   "cell_type": "code",
   "execution_count": 61,
   "metadata": {},
   "outputs": [
    {
     "data": {
      "text/plain": [
       "KMeans(algorithm='auto', copy_x=True, init='k-means++', max_iter=1000,\n",
       "       n_clusters=4, n_init=20, n_jobs=None, precompute_distances='auto',\n",
       "       random_state=None, tol=0.0001, verbose=0)"
      ]
     },
     "execution_count": 61,
     "metadata": {},
     "output_type": "execute_result"
    }
   ],
   "source": [
    "# Fit\n",
    "kmc.fit(X_train, y_train)"
   ]
  },
  {
   "cell_type": "code",
   "execution_count": 65,
   "metadata": {},
   "outputs": [
    {
     "data": {
      "text/plain": [
       "<seaborn.axisgrid.JointGrid at 0x1a1aecce10>"
      ]
     },
     "execution_count": 65,
     "metadata": {},
     "output_type": "execute_result"
    },
    {
     "data": {
      "image/png": "[encoded data removed]",
      "text/plain": [
       "<Figure size 432x432 with 3 Axes>"
      ]
     },
     "metadata": {
      "needs_background": "light"
     },
     "output_type": "display_data"
    }
   ],
   "source": [
    "sns.jointplot(x=\"PER\", y=\"salary\", data=dfmain)"
   ]
  },
  {
   "cell_type": "code",
   "execution_count": null,
   "metadata": {},
   "outputs": [],
   "source": []
  }
 ],
 "metadata": {
  "kernelspec": {
   "display_name": "Python 3",
   "language": "python",
   "name": "python3"
  },
  "language_info": {
   "codemirror_mode": {
    "name": "ipython",
    "version": 3
   },
   "file_extension": ".py",
   "mimetype": "text/x-python",
   "name": "python",
   "nbconvert_exporter": "python",
   "pygments_lexer": "ipython3",
   "version": "3.7.3"
  }
 },
 "nbformat": 4,
 "nbformat_minor": 2
}
